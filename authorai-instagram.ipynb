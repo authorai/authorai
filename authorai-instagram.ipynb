{
 "cells": [
  {
   "cell_type": "code",
   "execution_count": 1,
   "id": "e135c93f",
   "metadata": {},
   "outputs": [],
   "source": [
    "from authorai import artist, blogger\n",
    "from random import randrange\n",
    "from IPython.display import Image"
   ]
  },
  {
   "cell_type": "code",
   "execution_count": 2,
   "id": "fde87115",
   "metadata": {},
   "outputs": [],
   "source": [
    "art = artist.Art()\n",
    "art.set_description('A dream of a distant galaxy')"
   ]
  },
  {
   "cell_type": "code",
   "execution_count": 3,
   "id": "8085babc",
   "metadata": {},
   "outputs": [
    {
     "name": "stdout",
     "output_type": "stream",
     "text": [
      "{'styles': ['Realism', 'Photorealism', 'Expressionism', 'Impressionism', 'Abstract', 'Surrealism', 'Pop Art', 'Symbolist', 'Artivism', 'Religious', 'Mythological', 'Modernism', 'Outsider'], 'mediums': ['Oil', 'Watercolour', 'Acrylic', 'Gouache', 'Pastel', 'Encaustic', 'Fresco', 'Spray Paint', 'Digital', 'Hot wax', 'Ink', 'Enamel', 'Tempera'], 'surfaces': ['walls', 'paper', 'canvas', 'wood', 'glass', 'lacquer', 'pottery', 'leaf', 'copper', 'concrete', 'matte']}\n"
     ]
    }
   ],
   "source": [
    "print(art.painting_basics)"
   ]
  },
  {
   "cell_type": "code",
   "execution_count": 4,
   "id": "fb34695e",
   "metadata": {},
   "outputs": [],
   "source": [
    "art.set_basics(style='Photorealism')"
   ]
  },
  {
   "cell_type": "code",
   "execution_count": 5,
   "id": "12a07911",
   "metadata": {},
   "outputs": [
    {
     "name": "stdout",
     "output_type": "stream",
     "text": [
      "{'subjects': ['History Painting', 'Concept Art', 'Portrait Painting', 'Genre Painting', 'Landscape Painting', 'Still Life Painting'], 'materials': ['sand', 'clay', 'paper', 'plaster', 'gold leaf'], 'origins': ['indian', 'japanese', 'chinese', 'islamic', 'indonesian', 'mughal']}\n"
     ]
    }
   ],
   "source": [
    "print(art.painting_advanced)"
   ]
  },
  {
   "cell_type": "code",
   "execution_count": 6,
   "id": "cb92b416",
   "metadata": {},
   "outputs": [],
   "source": [
    "art.set_advanced(subject='Concept Art')"
   ]
  },
  {
   "cell_type": "code",
   "execution_count": 7,
   "id": "f4d7f72a",
   "metadata": {},
   "outputs": [
    {
     "name": "stdout",
     "output_type": "stream",
     "text": [
      "A dream of a distant galaxy in Photorealism style which is Concept Art\n"
     ]
    }
   ],
   "source": [
    "url, prompt = artist.create_art(art)\n",
    "print(prompt)"
   ]
  },
  {
   "cell_type": "code",
   "execution_count": 8,
   "id": "04108bfa",
   "metadata": {
    "scrolled": true
   },
   "outputs": [
    {
     "data": {
      "text/html": [
       "<img src=\"https://oaidalleapiprodscus.blob.core.windows.net/private/org-un8CEc9jkIWxoY8yTTCYMYAa/user-QBPWswUAu2vpUFYuRereM6op/img-B7P4f0rqPrv6lRpCThdCVswX.png?st=2023-01-15T13%3A47%3A17Z&se=2023-01-15T15%3A47%3A17Z&sp=r&sv=2021-08-06&sr=b&rscd=inline&rsct=image/png&skoid=6aaadede-4fb3-4698-a8f6-684d7786b067&sktid=a48cca56-e6da-484e-a814-9c849652bcb3&skt=2023-01-15T11%3A02%3A15Z&ske=2023-01-16T11%3A02%3A15Z&sks=b&skv=2021-08-06&sig=XY%2BBsClVQ3d0kwxXtss/uzwmppGosYiYQu/uSHh%2BzNo%3D\"/>"
      ],
      "text/plain": [
       "<IPython.core.display.Image object>"
      ]
     },
     "execution_count": 8,
     "metadata": {},
     "output_type": "execute_result"
    }
   ],
   "source": [
    "Image(url=url)"
   ]
  },
  {
   "cell_type": "code",
   "execution_count": 9,
   "id": "76807433",
   "metadata": {},
   "outputs": [
    {
     "data": {
      "text/plain": [
       "'A dream of a distant galaxy in Photorealism style which is Concept Art 20230115064724.png'"
      ]
     },
     "execution_count": 9,
     "metadata": {},
     "output_type": "execute_result"
    }
   ],
   "source": [
    "blogger.save_image(url=url, description=prompt, folder='generated')"
   ]
  }
 ],
 "metadata": {
  "kernelspec": {
   "display_name": "Python 3 (ipykernel)",
   "language": "python",
   "name": "python3"
  },
  "language_info": {
   "codemirror_mode": {
    "name": "ipython",
    "version": 3
   },
   "file_extension": ".py",
   "mimetype": "text/x-python",
   "name": "python",
   "nbconvert_exporter": "python",
   "pygments_lexer": "ipython3",
   "version": "3.10.9"
  }
 },
 "nbformat": 4,
 "nbformat_minor": 5
}
