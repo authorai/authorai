{
 "cells": [
  {
   "cell_type": "code",
   "execution_count": 1,
   "id": "2cf42955",
   "metadata": {},
   "outputs": [],
   "source": [
    "from authorai import blogger"
   ]
  },
  {
   "cell_type": "code",
   "execution_count": 2,
   "id": "5ebf012c",
   "metadata": {},
   "outputs": [
    {
     "name": "stdout",
     "output_type": "stream",
     "text": [
      "add code snippets\n"
     ]
    }
   ],
   "source": [
    "print(blogger.last_update())"
   ]
  },
  {
   "cell_type": "code",
   "execution_count": 3,
   "id": "03d56353",
   "metadata": {},
   "outputs": [],
   "source": [
    "post = blogger.BlogPost()\n",
    "authorai_site = blogger.JekyllSite()\n",
    "authorai_site.set_site_folder('../authorai-site')\n",
    "post.set_title('AuthorAI Artist for Generative Art Creation')"
   ]
  },
  {
   "cell_type": "code",
   "execution_count": 4,
   "id": "2da27783",
   "metadata": {},
   "outputs": [
    {
     "data": {
      "text/plain": [
       "'The best painting surface for photorealism painting style is a smooth, non-porous surface such as a primed canvas, board, or panel. The smoother the surface, the easier it will be to achieve the desired level of detail and accuracy.'"
      ]
     },
     "execution_count": 4,
     "metadata": {},
     "output_type": "execute_result"
    }
   ],
   "source": [
    "question = 'What is the best painting surface for photorealism painting style?'\n",
    "answer = blogger.qna(question)\n",
    "answer"
   ]
  },
  {
   "cell_type": "code",
   "execution_count": 5,
   "id": "ca7394a1",
   "metadata": {},
   "outputs": [],
   "source": [
    "post.set_qna(question, answer)"
   ]
  },
  {
   "cell_type": "code",
   "execution_count": 9,
   "id": "1aaffbc3",
   "metadata": {},
   "outputs": [],
   "source": [
    "question = 'How popular is Jekyll static site generator?'\n",
    "post.set_qna(question, blogger.qna(question))"
   ]
  },
  {
   "cell_type": "code",
   "execution_count": 10,
   "id": "9b4c7bb1",
   "metadata": {},
   "outputs": [],
   "source": [
    "question = 'Which companies use Jekyll static site generator?'\n",
    "post.set_qna(question, blogger.qna(question))"
   ]
  },
  {
   "cell_type": "code",
   "execution_count": 11,
   "id": "b9fc64eb",
   "metadata": {},
   "outputs": [
    {
     "data": {
      "text/plain": [
       "{'What is the best painting surface for photorealism painting style?': 'The best painting surface for photorealism painting style is a smooth, non-porous surface such as a primed canvas, board, or panel. The smoother the surface, the easier it will be to achieve the desired level of detail and accuracy.',\n",
       " 'How popular is Jekyll static site generator?': 'Jekyll is a very popular static site generator. According to BuiltWith, Jekyll is used on over 1.2 million websites.',\n",
       " 'Which companies use Jekyll static site generator?': 'Some of the companies that use Jekyll static site generator include GitHub, Shopify, Airbnb, Netflix, and Microsoft.'}"
      ]
     },
     "execution_count": 11,
     "metadata": {},
     "output_type": "execute_result"
    }
   ],
   "source": [
    "post.get_qna()"
   ]
  },
  {
   "cell_type": "code",
   "execution_count": 12,
   "id": "15ab363f",
   "metadata": {},
   "outputs": [
    {
     "name": "stdout",
     "output_type": "stream",
     "text": [
      "Writing high quality blog posts is a difficult and time consuming task. It requires a great deal of effort and dedication to create content that is both interesting and informative. It is not enough to simply write a few sentences and post them online; the content must be well-researched, well-written, and engaging. It also requires a good understanding of the topic, as well as the ability to craft a compelling narrative. Additionally, the blog post must be optimized for search engines, which requires an understanding of SEO principles. Finally, the post must be edited and proofread to ensure accuracy and clarity. All of these steps take time and effort, but the end result is worth it.\n"
     ]
    }
   ],
   "source": [
    "concept = 'Writing high quality blog posts is time consuming and hard work'\n",
    "topic = blogger.describe_concept(concept, 150, grade=10)\n",
    "post.set_topic(topic)\n",
    "print(post.get_topic())"
   ]
  },
  {
   "cell_type": "code",
   "execution_count": 13,
   "id": "b7bff35e",
   "metadata": {},
   "outputs": [
    {
     "name": "stdout",
     "output_type": "stream",
     "text": [
      "['Blog posts ', 'Writing ', 'Research ', 'Narrative ', 'SEO']\n"
     ]
    }
   ],
   "source": [
    "response, response_list = blogger.tags_from_topic(post.get_title() + ' - ' + topic, count=5)\n",
    "post.set_tags(response_list)\n",
    "print(post.get_tags())"
   ]
  },
  {
   "cell_type": "code",
   "execution_count": 14,
   "id": "c8a19c7b",
   "metadata": {},
   "outputs": [
    {
     "name": "stdout",
     "output_type": "stream",
     "text": [
      "Static website generators are gaining popularity as a way to quickly and easily create websites. These generators allow users to create websites without having to write any code. Instead, they use a template-based system to create a website that looks professional and is easy to maintain.\n",
      "\n",
      "Static website generators are becoming increasingly popular due to their ease of use and the fact that they are more secure than traditional websites. With a static website, all of the content is stored on the server, meaning that it is not vulnerable to malicious attacks. This makes it much more secure than a traditional website, which can be vulnerable to hackers.\n",
      "\n",
      "Static website generators also offer a number of advantages over traditional websites. For example, they are much faster to create and maintain. This is because they do not require any coding or programming knowledge. Instead, users can simply select a template and fill in the content. This makes it much easier for users to create a website quickly and easily.\n",
      "\n",
      "In addition, static website generators are much more cost-effective than traditional websites. This is because they do not require any hosting fees or other costs associated with traditional websites. This makes them an attractive option for those who are looking to create a website on a budget.\n",
      "\n",
      "Finally, static website generators are becoming increasingly popular due to their ability to create websites that are optimized for search engines. This means that they can help to improve the visibility of a website in search engine results. This can be beneficial for businesses, as it can help to increase their online presence and attract more customers.\n",
      "\n",
      "Overall, static website generators are becoming increasingly popular due to their ease of use, security, cost-effectiveness, and ability to create websites that are optimized for search engines. This makes them an attractive option for those who are looking to create a website quickly and easily.\n"
     ]
    }
   ],
   "source": [
    "title = 'Static website generators gaining popularity'\n",
    "section = blogger.describe_concept(title, 400, grade=10)\n",
    "post.set_sections(title, section)\n",
    "print(post.get_section(title))"
   ]
  },
  {
   "cell_type": "code",
   "execution_count": 15,
   "id": "7607d889",
   "metadata": {},
   "outputs": [
    {
     "name": "stdout",
     "output_type": "stream",
     "text": [
      "Jekyll is a static website generator that allows users to quickly and easily create websites without the need for complex coding. It is a powerful tool that can be used to create websites with a variety of features.\n",
      "\n",
      "Jekyll is built on the Ruby programming language and uses Liquid templating to create websites. This allows users to quickly and easily create websites with a variety of features. Jekyll also supports Markdown, which is a lightweight markup language that makes it easy to write content for websites.\n",
      "\n",
      "Jekyll also has a variety of features that make it easy to create and manage websites. It has a built-in development server that allows users to preview their websites before they are published. It also has a built-in static site generator that can be used to generate static HTML pages from Markdown files.\n",
      "\n",
      "Jekyll also has a variety of plugins that can be used to add additional features to websites. These plugins can be used to add features such as search, comments, and social media integration.\n",
      "\n",
      "Jekyll also has a variety of themes that can be used to quickly and easily create websites with a variety of looks and styles. These themes can be used to create websites with a modern, professional look.\n",
      "\n",
      "Finally, Jekyll has a variety of tools that can be used to manage and deploy websites.\n"
     ]
    }
   ],
   "source": [
    "title = 'Jekyll static website generator features'\n",
    "section = blogger.describe_concept(title, 300, grade=10)\n",
    "post.set_sections(title, section)\n",
    "print(post.get_section(title))"
   ]
  },
  {
   "cell_type": "code",
   "execution_count": 16,
   "id": "608e729e",
   "metadata": {},
   "outputs": [
    {
     "name": "stdout",
     "output_type": "stream",
     "text": [
      "Liquid template language for Jekyll is a powerful and versatile tool for creating dynamic websites. It is a templating language that allows developers to create custom HTML and CSS code for their websites. It is designed to be easy to use and understand, and is used in conjunction with the popular Jekyll static site generator. Liquid is written in Ruby and is based on the Liquid Markup language. It allows developers to create custom HTML and CSS code for their websites, as well as to create dynamic content such as blog posts, product pages, and more. Liquid also allows developers to create custom tags and filters, which can be used to manipulate data and create custom content.\n"
     ]
    }
   ],
   "source": [
    "title = 'Liquid template language for Jekyll'\n",
    "section = blogger.describe_concept(title, 150, grade=10)\n",
    "post.set_sections(title, section)\n",
    "print(post.get_section(title))"
   ]
  },
  {
   "cell_type": "code",
   "execution_count": 17,
   "id": "bf29de5f",
   "metadata": {},
   "outputs": [
    {
     "name": "stdout",
     "output_type": "stream",
     "text": [
      "<html>\n",
      "  <head>\n",
      "    <title>Todo List</title>\n",
      "  </head>\n",
      "  <body>\n",
      "    <h1>To-do List</h1>\n",
      "    <ul>\n",
      "      {% for todo in todos %}\n",
      "        {% if todo.completed %}\n",
      "        <li><span style=\"text-decoration: line-through;\">{{ todo.name }}</span></li>  \n",
      "        {% else %}\n",
      "        <li>{{ todo.name }}</li>  \n",
      "        {% endif %}\n",
      "      {% endfor %}\n",
      "    </ul>\n",
      "    <form action=\"/add\" method=\"POST\">\n",
      "      <input type=\"text\" name=\"todo\" placeholder=\"New item\">\n",
      "      <input type=\"submit\" value=\"Add\">\n",
      "    </form>\n",
      "    <form action=\"/delete\" method=\"POST\">\n",
      "      <input type=\"text\" name=\"todo\" placeholder=\"Item to delete\">\n",
      "      <input type=\"submit\" value=\"Delete\">\n",
      "    </form>\n",
      "    <form action=\"/complete\" method=\"POST\">\n",
      "      <input type=\"text\" name=\"todo\" placeholder=\"Item to complete\">\n",
      "      <input type=\"submit\" value=\"Complete\">\n",
      "    </form>\n",
      "  </body>\n",
      "</html>\n"
     ]
    }
   ],
   "source": [
    "language='HTML page with liquid template language'\n",
    "usecase = 'todo list with add, delete, and complete features'\n",
    "caption, snippet = blogger.generate_code(language=language, usecase=usecase, loc=30)\n",
    "post.set_snippets(caption, snippet)\n",
    "print(post.get_snippet(caption))"
   ]
  },
  {
   "cell_type": "code",
   "execution_count": 18,
   "id": "79ce608d",
   "metadata": {},
   "outputs": [],
   "source": [
    "from IPython.display import Image\n",
    "blueprint_feature_description = 'Website layout design hand-drawn with multi-colored markers on a ' + \\\n",
    "'translucent wall-to-wall glass with background of night city skyline'\n",
    "blueprint_feature = blogger.artist.image_from_description(blueprint_feature_description)"
   ]
  },
  {
   "cell_type": "code",
   "execution_count": 19,
   "id": "bbfef701",
   "metadata": {
    "scrolled": true
   },
   "outputs": [
    {
     "data": {
      "text/html": [
       "<img src=\"https://oaidalleapiprodscus.blob.core.windows.net/private/org-un8CEc9jkIWxoY8yTTCYMYAa/user-QBPWswUAu2vpUFYuRereM6op/img-6QDJ2HSCFU1AG0jgxz72mfPw.png?st=2023-01-20T03%3A15%3A06Z&se=2023-01-20T05%3A15%3A06Z&sp=r&sv=2021-08-06&sr=b&rscd=inline&rsct=image/png&skoid=6aaadede-4fb3-4698-a8f6-684d7786b067&sktid=a48cca56-e6da-484e-a814-9c849652bcb3&skt=2023-01-20T00%3A09%3A47Z&ske=2023-01-21T00%3A09%3A47Z&sks=b&skv=2021-08-06&sig=XyOgjODN68E/iGpu2K9MiW6MAKOjGjKPPSnhJVawQlE%3D\"/>"
      ],
      "text/plain": [
       "<IPython.core.display.Image object>"
      ]
     },
     "execution_count": 19,
     "metadata": {},
     "output_type": "execute_result"
    }
   ],
   "source": [
    "Image(url=blueprint_feature)"
   ]
  },
  {
   "cell_type": "code",
   "execution_count": 20,
   "id": "0fdf9db0",
   "metadata": {},
   "outputs": [],
   "source": [
    "publish = False\n",
    "if publish:\n",
    "    image_folder_path = authorai_site.get_site_folder() + '/' + authorai_site.get_image_folder()\n",
    "    feature_image = blogger.artist.save_image(blueprint_feature, \n",
    "                                              'web-design-glass-on-night-city', \n",
    "                                              folder=image_folder_path)\n",
    "    post.set_feature_image(feature_image)\n",
    "    print(post.get_feature_image())"
   ]
  },
  {
   "cell_type": "code",
   "execution_count": 21,
   "id": "0044f65f",
   "metadata": {},
   "outputs": [],
   "source": [
    "if publish:\n",
    "    post_created = blogger.create_jekyll_post(post, authorai_site)\n",
    "    print(post_created)"
   ]
  }
 ],
 "metadata": {
  "kernelspec": {
   "display_name": "Python 3 (ipykernel)",
   "language": "python",
   "name": "python3"
  },
  "language_info": {
   "codemirror_mode": {
    "name": "ipython",
    "version": 3
   },
   "file_extension": ".py",
   "mimetype": "text/x-python",
   "name": "python",
   "nbconvert_exporter": "python",
   "pygments_lexer": "ipython3",
   "version": "3.10.9"
  }
 },
 "nbformat": 4,
 "nbformat_minor": 5
}
